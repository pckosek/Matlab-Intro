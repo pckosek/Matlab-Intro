{
 "cells": [
  {
   "cell_type": "markdown",
   "metadata": {},
   "source": [
    "### Multi-Dimensional Arrays\n",
    "More than just vectors.\n",
    "\n",
    "So here, let's take a look at creating multi-dimensional arrays.\n",
    "\n",
    "We can start by using the tools we already have:"
   ]
  },
  {
   "cell_type": "code",
   "execution_count": 1,
   "metadata": {},
   "outputs": [
    {
     "name": "stdout",
     "output_type": "stream",
     "text": [
      "\n",
      "x =\n",
      "\n",
      "     1     2     3\n",
      "     4     5     6\n",
      "\n",
      "\n",
      "y =\n",
      "\n",
      "     1     3     5\n",
      "     2     4     6\n",
      "\n",
      "\n"
     ]
    }
   ],
   "source": [
    "x = [1 2 3; 4 5 6]\n",
    "y = [[1;2], [3;4], [5;6]]\n"
   ]
  },
  {
   "cell_type": "markdown",
   "metadata": {},
   "source": [
    "You can do fancy insertion and transposition"
   ]
  },
  {
   "cell_type": "code",
   "execution_count": 2,
   "metadata": {},
   "outputs": [
    {
     "name": "stdout",
     "output_type": "stream",
     "text": [
      "\n",
      "y =\n",
      "\n",
      "     1     2     3     4     5\n",
      "     1     2     3     4     5\n",
      "     1     2     3     4     5\n",
      "\n",
      "\n",
      "z =\n",
      "\n",
      "     1     1     1\n",
      "     2     2     2\n",
      "     3     3     3\n",
      "     4     4     4\n",
      "     5     5     5\n",
      "\n",
      "\n"
     ]
    }
   ],
   "source": [
    "x = [1:5];\n",
    "y = [x; x; x;]\n",
    "z = [x', x', x']"
   ]
  },
  {
   "cell_type": "raw",
   "metadata": {},
   "source": [
    "Or, you can be explicit about the shape and data using a initialization function"
   ]
  },
  {
   "cell_type": "code",
   "execution_count": 3,
   "metadata": {},
   "outputs": [
    {
     "name": "stdout",
     "output_type": "stream",
     "text": [
      "\n",
      "x =\n",
      "\n",
      "     0     0     0     0\n",
      "     0     0     0     0\n",
      "\n",
      "\n",
      "y =\n",
      "\n",
      "     1     1\n",
      "     1     1\n",
      "     1     1\n",
      "     1     1\n",
      "\n",
      "\n",
      "z =\n",
      "\n",
      "    0.8147    0.9058    0.1270    0.9134    0.6324\n",
      "\n",
      "\n"
     ]
    }
   ],
   "source": [
    "x = zeros(2,4)\n",
    "y = ones(4,2)\n",
    "z = rand(1,5)"
   ]
  },
  {
   "cell_type": "markdown",
   "metadata": {},
   "source": [
    "Sometimes you want to reshape your data into a particular size"
   ]
  },
  {
   "cell_type": "code",
   "execution_count": 4,
   "metadata": {},
   "outputs": [
    {
     "name": "stdout",
     "output_type": "stream",
     "text": [
      "\n",
      "y =\n",
      "\n",
      "     1     3     5     7     9\n",
      "     2     4     6     8    10\n",
      "\n",
      "\n",
      "z =\n",
      "\n",
      "     1     6\n",
      "     2     7\n",
      "     3     8\n",
      "     4     9\n",
      "     5    10\n",
      "\n",
      "\n"
     ]
    }
   ],
   "source": [
    "x = [1:10];\n",
    "y = reshape(x, [2,5])\n",
    "z = reshape(x, [5,2])"
   ]
  },
  {
   "cell_type": "markdown",
   "metadata": {},
   "source": [
    "If you want to do something really whacky you can! There are some important things to remember:\n",
    "\n",
    " * matrix access / shape commands call the nRows dimension first\n",
    " * matrix access / shape commands call the nCols dimension second\n",
    " * other dimensions are then called in order\n",
    " * the everything operator returns your matrix as  single column list\n",
    " \n",
    " Let's take a look at a complicated transformation"
   ]
  },
  {
   "cell_type": "code",
   "execution_count": 5,
   "metadata": {},
   "outputs": [
    {
     "name": "stdout",
     "output_type": "stream",
     "text": [
      "\n",
      "x =\n",
      "\n",
      "     1    10\n",
      "     2    11\n",
      "     3    12\n",
      "     4    13\n",
      "     5    14\n",
      "     6    15\n",
      "     7    16\n",
      "     8    17\n",
      "     9    18\n",
      "\n",
      "\n",
      "x_1 =\n",
      "\n",
      "     1     2     3     4     5     6     7     8     9\n",
      "    10    11    12    13    14    15    16    17    18\n",
      "\n",
      "\n",
      "y =\n",
      "\n",
      "     1\n",
      "    10\n",
      "     2\n",
      "    11\n",
      "     3\n",
      "    12\n",
      "     4\n",
      "    13\n",
      "     5\n",
      "    14\n",
      "     6\n",
      "    15\n",
      "     7\n",
      "    16\n",
      "     8\n",
      "    17\n",
      "     9\n",
      "    18\n",
      "\n",
      "\n",
      "z(:,:,1) =\n",
      "\n",
      "     1    11     4\n",
      "    10     3    13\n",
      "     2    12     5\n",
      "\n",
      "\n",
      "z(:,:,2) =\n",
      "\n",
      "    14     7    17\n",
      "     6    16     9\n",
      "    15     8    18\n",
      "\n",
      "\n"
     ]
    }
   ],
   "source": [
    "w   = [1:18];\n",
    "x   = reshape( w, [9, 2])\n",
    "x_1 = x'\n",
    "y   = x_1(:)\n",
    "z   = reshape(y, [3, 3, 2])"
   ]
  },
  {
   "cell_type": "markdown",
   "metadata": {},
   "source": [
    "There is a predictable order to the structure of z. Further exposure will make it more intuitive."
   ]
  }
 ],
 "metadata": {
  "kernelspec": {
   "display_name": "Matlab",
   "language": "matlab",
   "name": "matlab"
  },
  "language_info": {
   "codemirror_mode": "octave",
   "file_extension": ".m",
   "help_links": [
    {
     "text": "MetaKernel Magics",
     "url": "https://github.com/calysto/metakernel/blob/master/metakernel/magics/README.md"
    }
   ],
   "mimetype": "text/x-octave",
   "name": "matlab",
   "version": "0.15.0"
  }
 },
 "nbformat": 4,
 "nbformat_minor": 2
}
