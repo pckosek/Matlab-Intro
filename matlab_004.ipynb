{
 "cells": [
  {
   "cell_type": "markdown",
   "metadata": {},
   "source": [
    "### The `end` operator\n",
    "\n",
    "This thing is really useful. It grabs the last element from the specified dimension\n",
    "\n",
    "For example, here I grab the last element from the first row"
   ]
  },
  {
   "cell_type": "code",
   "execution_count": 1,
   "metadata": {},
   "outputs": [
    {
     "name": "stdout",
     "output_type": "stream",
     "text": [
      "\n",
      "x =\n",
      "\n",
      "     1     5     9\n",
      "     2     6    10\n",
      "     3     7    11\n",
      "     4     8    12\n",
      "\n",
      "\n",
      "ans =\n",
      "\n",
      "     9\n",
      "\n",
      "\n"
     ]
    }
   ],
   "source": [
    "x = reshape(1:12, [4,3])\n",
    "x(1,end)"
   ]
  },
  {
   "cell_type": "markdown",
   "metadata": {},
   "source": [
    "Now, I will grab the last element from the first column:"
   ]
  },
  {
   "cell_type": "code",
   "execution_count": 2,
   "metadata": {},
   "outputs": [
    {
     "name": "stdout",
     "output_type": "stream",
     "text": [
      "\n",
      "x =\n",
      "\n",
      "     1     5     9\n",
      "     2     6    10\n",
      "     3     7    11\n",
      "     4     8    12\n",
      "\n",
      "\n",
      "ans =\n",
      "\n",
      "     4\n",
      "\n",
      "\n"
     ]
    }
   ],
   "source": [
    "x\n",
    "x(end,1)"
   ]
  },
  {
   "cell_type": "markdown",
   "metadata": {},
   "source": [
    "The end operator can be used with offsets as well.\n",
    "\n",
    "Here I grab the second last element of the first column:"
   ]
  },
  {
   "cell_type": "code",
   "execution_count": 3,
   "metadata": {},
   "outputs": [
    {
     "name": "stdout",
     "output_type": "stream",
     "text": [
      "\n",
      "x =\n",
      "\n",
      "     1     5     9\n",
      "     2     6    10\n",
      "     3     7    11\n",
      "     4     8    12\n",
      "\n",
      "\n",
      "ans =\n",
      "\n",
      "     3\n",
      "\n",
      "\n"
     ]
    }
   ],
   "source": [
    "x\n",
    "x(end-1,1)"
   ]
  },
  {
   "cell_type": "markdown",
   "metadata": {},
   "source": [
    "Let's use the `end` operator with the everthing (`:`) operator.\n",
    "\n",
    "We'll select everthing from the last colummn:"
   ]
  },
  {
   "cell_type": "code",
   "execution_count": 4,
   "metadata": {},
   "outputs": [
    {
     "name": "stdout",
     "output_type": "stream",
     "text": [
      "\n",
      "x =\n",
      "\n",
      "     1     5     9\n",
      "     2     6    10\n",
      "     3     7    11\n",
      "     4     8    12\n",
      "\n",
      "\n",
      "ans =\n",
      "\n",
      "     9\n",
      "    10\n",
      "    11\n",
      "    12\n",
      "\n",
      "\n"
     ]
    }
   ],
   "source": [
    "x\n",
    "x(:,end)"
   ]
  },
  {
   "cell_type": "markdown",
   "metadata": {},
   "source": [
    "And here select everything (all columns) from the second last row:"
   ]
  },
  {
   "cell_type": "code",
   "execution_count": 5,
   "metadata": {},
   "outputs": [
    {
     "name": "stdout",
     "output_type": "stream",
     "text": [
      "\n",
      "x =\n",
      "\n",
      "     1     5     9\n",
      "     2     6    10\n",
      "     3     7    11\n",
      "     4     8    12\n",
      "\n",
      "\n",
      "ans =\n",
      "\n",
      "     3     7    11\n",
      "\n",
      "\n"
     ]
    }
   ],
   "source": [
    "x\n",
    "x(end-1,:)"
   ]
  },
  {
   "cell_type": "markdown",
   "metadata": {},
   "source": [
    "Final thoughts:\n",
    "\n",
    "The `end` operator is really helpful, but is limited - for example it cannot be used in `for` structures later on."
   ]
  }
 ],
 "metadata": {
  "kernelspec": {
   "display_name": "Matlab",
   "language": "matlab",
   "name": "matlab"
  },
  "language_info": {
   "codemirror_mode": "octave",
   "file_extension": ".m",
   "help_links": [
    {
     "text": "MetaKernel Magics",
     "url": "https://github.com/calysto/metakernel/blob/master/metakernel/magics/README.md"
    }
   ],
   "mimetype": "text/x-octave",
   "name": "matlab",
   "version": "0.15.0"
  }
 },
 "nbformat": 4,
 "nbformat_minor": 2
}
