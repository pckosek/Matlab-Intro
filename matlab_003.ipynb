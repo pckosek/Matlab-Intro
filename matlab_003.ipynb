{
 "cells": [
  {
   "cell_type": "markdown",
   "metadata": {},
   "source": [
    "### Accessing Individual Data Points Within Your Arrays\n",
    "\n",
    "It's actually quite easyto get sub elements. Let's get started.\n",
    "\n",
    "Here are the key points:\n",
    "* MATLAB uses 1 based indices.\n",
    "* Unlike python, MATLAB uses brackets `[` and `]` to _construct_ matrices and  _parentheses_ `(` and `)` to access data"
   ]
  },
  {
   "cell_type": "code",
   "execution_count": 1,
   "metadata": {},
   "outputs": [
    {
     "name": "stdout",
     "output_type": "stream",
     "text": [
      "\n",
      "x =\n",
      "\n",
      "     1     2     3\n",
      "\n",
      "\n",
      "ans =\n",
      "\n",
      "     2\n",
      "\n",
      "\n"
     ]
    }
   ],
   "source": [
    "x = [1:3]\n",
    "x(2)"
   ]
  },
  {
   "cell_type": "markdown",
   "metadata": {},
   "source": [
    "An index of zero or negative one (or NaN or Inf for any non-integer that matter!) causes issues"
   ]
  },
  {
   "cell_type": "code",
   "execution_count": 2,
   "metadata": {},
   "outputs": [
    {
     "name": "stderr",
     "output_type": "stream",
     "text": [
      "\u001b[1;31mSubscript indices must either be real positive integers or logicals.\n",
      "\n",
      "\u001b[0m"
     ]
    }
   ],
   "source": [
    "x = 1:5;\n",
    "x(-1)"
   ]
  },
  {
   "cell_type": "code",
   "execution_count": 3,
   "metadata": {},
   "outputs": [
    {
     "name": "stderr",
     "output_type": "stream",
     "text": [
      "\u001b[1;31mSubscript indices must either be real positive integers or logicals.\n",
      "\n",
      "\u001b[0m"
     ]
    }
   ],
   "source": [
    "x(0)"
   ]
  },
  {
   "cell_type": "code",
   "execution_count": 4,
   "metadata": {},
   "outputs": [
    {
     "name": "stderr",
     "output_type": "stream",
     "text": [
      "\u001b[1;31mSubscript indices must either be real positive integers or logicals.\n",
      "\n",
      "\u001b[0m"
     ]
    }
   ],
   "source": [
    "x(NaN)"
   ]
  },
  {
   "cell_type": "code",
   "execution_count": 5,
   "metadata": {},
   "outputs": [
    {
     "name": "stderr",
     "output_type": "stream",
     "text": [
      "\u001b[1;31mSubscript indices must either be real positive integers or logicals.\n",
      "\n",
      "\u001b[0m"
     ]
    }
   ],
   "source": [
    "x(Inf)"
   ]
  },
  {
   "cell_type": "code",
   "execution_count": 6,
   "metadata": {},
   "outputs": [
    {
     "name": "stderr",
     "output_type": "stream",
     "text": [
      "\u001b[1;31mSubscript indices must either be real positive integers or logicals.\n",
      "\n",
      "\u001b[0m"
     ]
    }
   ],
   "source": [
    "x(1.2)"
   ]
  },
  {
   "cell_type": "markdown",
   "metadata": {},
   "source": [
    "There are some things that do work that you might not expect. For example, "
   ]
  },
  {
   "cell_type": "code",
   "execution_count": 7,
   "metadata": {},
   "outputs": [
    {
     "name": "stdout",
     "output_type": "stream",
     "text": [
      "\n",
      "ans =\n",
      "\n",
      "     []\n",
      "\n",
      "\n",
      "ans =\n",
      "\n",
      "     []\n",
      "\n",
      "\n",
      "ans =\n",
      "\n",
      "    48\n",
      "\n",
      "\n"
     ]
    }
   ],
   "source": [
    "x = [1:100];\n",
    "x('')\n",
    "x([])\n",
    "x('0')"
   ]
  },
  {
   "cell_type": "markdown",
   "metadata": {},
   "source": [
    "Which tells us that if we access an empty matrix, we get an empty matrix, and that `char`'s are treated as `int`s for access purposes, since"
   ]
  },
  {
   "cell_type": "code",
   "execution_count": 8,
   "metadata": {},
   "outputs": [
    {
     "name": "stdout",
     "output_type": "stream",
     "text": [
      "\n",
      "ans =\n",
      "\n",
      "    48\n",
      "\n",
      "\n"
     ]
    }
   ],
   "source": [
    "double('0')"
   ]
  },
  {
   "cell_type": "markdown",
   "metadata": {},
   "source": [
    "and for that matter, "
   ]
  },
  {
   "cell_type": "code",
   "execution_count": 9,
   "metadata": {},
   "outputs": [
    {
     "name": "stdout",
     "output_type": "stream",
     "text": [
      "\n",
      "ans =\n",
      "\n",
      "    97    98    99   100   101\n",
      "\n",
      "\n"
     ]
    }
   ],
   "source": [
    "double('abcde')"
   ]
  },
  {
   "cell_type": "markdown",
   "metadata": {},
   "source": [
    "Let's go back to things that work, though.\n",
    "In this example, we are going to access scalar elements of a 2-D array. Note that MATLAB iterates by columns. "
   ]
  },
  {
   "cell_type": "code",
   "execution_count": 10,
   "metadata": {},
   "outputs": [
    {
     "name": "stdout",
     "output_type": "stream",
     "text": [
      "\n",
      "x =\n",
      "\n",
      "     1     2     3     4     5\n",
      "     6     7     8     9    10\n",
      "\n",
      "\n"
     ]
    }
   ],
   "source": [
    "x = reshape(1:10, [5,2])'"
   ]
  },
  {
   "cell_type": "code",
   "execution_count": 11,
   "metadata": {},
   "outputs": [
    {
     "name": "stdout",
     "output_type": "stream",
     "text": [
      "\n",
      "ans =\n",
      "\n",
      "     1\n",
      "\n",
      "\n",
      "ans =\n",
      "\n",
      "     6\n",
      "\n",
      "\n",
      "ans =\n",
      "\n",
      "     2\n",
      "\n",
      "\n",
      "ans =\n",
      "\n",
      "     5\n",
      "\n",
      "\n",
      "ans =\n",
      "\n",
      "    10\n",
      "\n",
      "\n"
     ]
    }
   ],
   "source": [
    "x(1)\n",
    "x(2)\n",
    "x(3)\n",
    "\n",
    "x(9)\n",
    "x(10)"
   ]
  },
  {
   "cell_type": "markdown",
   "metadata": {},
   "source": [
    "Which is to say that for scalar acess, MATLAB views x as this:"
   ]
  },
  {
   "cell_type": "code",
   "execution_count": 12,
   "metadata": {},
   "outputs": [
    {
     "name": "stdout",
     "output_type": "stream",
     "text": [
      "\n",
      "ans =\n",
      "\n",
      "     1\n",
      "     6\n",
      "     2\n",
      "     7\n",
      "     3\n",
      "     8\n",
      "     4\n",
      "     9\n",
      "     5\n",
      "    10\n",
      "\n",
      "\n"
     ]
    }
   ],
   "source": [
    "x(:)"
   ]
  },
  {
   "cell_type": "markdown",
   "metadata": {},
   "source": [
    "Which we saw before.\n",
    "\n",
    "You can also access by row or by column. Here we select from row 1"
   ]
  },
  {
   "cell_type": "code",
   "execution_count": 13,
   "metadata": {},
   "outputs": [
    {
     "name": "stdout",
     "output_type": "stream",
     "text": [
      "\n",
      "x =\n",
      "\n",
      "     1     2     3     4     5\n",
      "     6     7     8     9    10\n",
      "\n",
      "\n",
      "ans =\n",
      "\n",
      "     2\n",
      "\n",
      "\n",
      "ans =\n",
      "\n",
      "     3\n",
      "\n",
      "\n"
     ]
    }
   ],
   "source": [
    "x = reshape(1:10, [5,2])'\n",
    "\n",
    "x(1,2)\n",
    "x(1,3)"
   ]
  },
  {
   "cell_type": "markdown",
   "metadata": {},
   "source": [
    "And here I select from column 4"
   ]
  },
  {
   "cell_type": "code",
   "execution_count": 14,
   "metadata": {},
   "outputs": [
    {
     "name": "stdout",
     "output_type": "stream",
     "text": [
      "\n",
      "ans =\n",
      "\n",
      "     4\n",
      "\n",
      "\n",
      "ans =\n",
      "\n",
      "     9\n",
      "\n",
      "\n"
     ]
    }
   ],
   "source": [
    " x(1,4)\n",
    " x(2,4)"
   ]
  }
 ],
 "metadata": {
  "kernelspec": {
   "display_name": "Matlab",
   "language": "matlab",
   "name": "matlab"
  },
  "language_info": {
   "codemirror_mode": "octave",
   "file_extension": ".m",
   "help_links": [
    {
     "text": "MetaKernel Magics",
     "url": "https://github.com/calysto/metakernel/blob/master/metakernel/magics/README.md"
    }
   ],
   "mimetype": "text/x-octave",
   "name": "matlab",
   "version": "0.15.0"
  }
 },
 "nbformat": 4,
 "nbformat_minor": 2
}
