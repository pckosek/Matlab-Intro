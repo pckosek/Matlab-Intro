{
 "cells": [
  {
   "cell_type": "markdown",
   "metadata": {},
   "source": [
    "# Introduction to MATLAB\n",
    "\n",
    "Welcome to MATLAB!\n",
    "Matlab is really great stuff. And fun. I think you're going to like it a lot.\n",
    "\n",
    "MATLAB is a massivelty useful number cruncher. The MAT in the name comes from Matrix not math - and that's an important point; MATLAB is exceptionally good and optimized for matrix math - but not necessarily the best tool for all math in general. For example, continuous and symbolic math are available through packages - but MATLAB would not necessarily be my first choice of tool when solving these operations. QR composition, yes. Discrete computation, yes. \n",
    "\n",
    "The MATLAB environment itself is kind of like Python. There's the ability to run scripts, and then there's an interpreter shell. The commads here can be taken to be inputs to the interpreter (until we get to functions). For now, let's just figure out what the heck is going on inside of MATLAB."
   ]
  },
  {
   "cell_type": "markdown",
   "metadata": {},
   "source": [
    "### Super Duper Basics\n",
    "To start, let's see basic math. "
   ]
  },
  {
   "cell_type": "code",
   "execution_count": 1,
   "metadata": {},
   "outputs": [
    {
     "name": "stdout",
     "output_type": "stream",
     "text": [
      "\n",
      "ans =\n",
      "\n",
      "     2\n",
      "\n",
      "\n"
     ]
    }
   ],
   "source": [
    "1+1"
   ]
  },
  {
   "cell_type": "markdown",
   "metadata": {},
   "source": [
    "Ooh that was fancy!!! Ok, how abount another one."
   ]
  },
  {
   "cell_type": "code",
   "execution_count": 2,
   "metadata": {},
   "outputs": [
    {
     "name": "stdout",
     "output_type": "stream",
     "text": [
      "\n",
      "ans =\n",
      "\n",
      "    2.2361\n",
      "\n",
      "\n"
     ]
    }
   ],
   "source": [
    "sqrt(5) "
   ]
  },
  {
   "cell_type": "markdown",
   "metadata": {},
   "source": [
    "Yeah, this guy is pretty good. MATLAB also can store output as variables"
   ]
  },
  {
   "cell_type": "code",
   "execution_count": 3,
   "metadata": {},
   "outputs": [
    {
     "name": "stdout",
     "output_type": "stream",
     "text": [
      "\n",
      "x =\n",
      "\n",
      "    16\n",
      "\n",
      "\n"
     ]
    }
   ],
   "source": [
    "x = 4*4"
   ]
  },
  {
   "cell_type": "markdown",
   "metadata": {},
   "source": [
    "But it's also annoying to look at the output every time you set a variable. \n",
    "To suppress the output, place a semicolon at the end of yourr statement:"
   ]
  },
  {
   "cell_type": "code",
   "execution_count": 4,
   "metadata": {},
   "outputs": [
    {
     "name": "stdout",
     "output_type": "stream",
     "text": [
      "\n"
     ]
    }
   ],
   "source": [
    "y = 12;"
   ]
  },
  {
   "cell_type": "markdown",
   "metadata": {},
   "source": [
    "And when we take a look at the output later on...."
   ]
  },
  {
   "cell_type": "code",
   "execution_count": 5,
   "metadata": {},
   "outputs": [
    {
     "name": "stdout",
     "output_type": "stream",
     "text": [
      "\n",
      "y =\n",
      "\n",
      "    12\n",
      "\n",
      "\n"
     ]
    }
   ],
   "source": [
    "y"
   ]
  },
  {
   "cell_type": "markdown",
   "metadata": {},
   "source": [
    "### Basics\n",
    "MATLAB is all about matrices. \n",
    "\n",
    "Use spaces or commas to create a row vector (matrix)."
   ]
  },
  {
   "cell_type": "code",
   "execution_count": 6,
   "metadata": {},
   "outputs": [
    {
     "name": "stdout",
     "output_type": "stream",
     "text": [
      "\n",
      "x =\n",
      "\n",
      "     1     2     3     4     5\n",
      "\n",
      "\n",
      "y =\n",
      "\n",
      "     1     1     2     3\n",
      "\n",
      "\n"
     ]
    }
   ],
   "source": [
    "x = [1 2 3 4 5]\n",
    "y = [1, 1, 2, 3]"
   ]
  },
  {
   "cell_type": "markdown",
   "metadata": {},
   "source": [
    "Use semicolons to create column vectors"
   ]
  },
  {
   "cell_type": "code",
   "execution_count": 7,
   "metadata": {},
   "outputs": [
    {
     "name": "stdout",
     "output_type": "stream",
     "text": [
      "\n",
      "z =\n",
      "\n",
      "     1\n",
      "     3\n",
      "     5\n",
      "     5\n",
      "     2\n",
      "\n",
      "\n"
     ]
    }
   ],
   "source": [
    "z = [1; 3; 5; 5; 2]"
   ]
  },
  {
   "cell_type": "markdown",
   "metadata": {},
   "source": [
    "Row vectors are created by default when you specify a interval"
   ]
  },
  {
   "cell_type": "code",
   "execution_count": 8,
   "metadata": {},
   "outputs": [
    {
     "name": "stdout",
     "output_type": "stream",
     "text": [
      "\n",
      "x =\n",
      "\n",
      "     1     2     3     4     5     6     7     8     9    10\n",
      "\n",
      "\n",
      "y =\n",
      "\n",
      "    1.0000    1.1000    1.2000    1.3000    1.4000    1.5000    1.6000    1.7000    1.8000    1.9000    2.0000\n",
      "\n",
      "\n",
      "z =\n",
      "\n",
      "     1     0    -1    -2    -3\n",
      "\n",
      "\n"
     ]
    }
   ],
   "source": [
    "x = 1:10\n",
    "y = 1:.1:2\n",
    "z = [1:-1:-3]"
   ]
  },
  {
   "cell_type": "markdown",
   "metadata": {},
   "source": [
    "When creating vectors by interval the final value is a 'less than or equal to' specification"
   ]
  },
  {
   "cell_type": "code",
   "execution_count": 9,
   "metadata": {},
   "outputs": [
    {
     "name": "stdout",
     "output_type": "stream",
     "text": [
      "\n",
      "x =\n",
      "\n",
      "     1     2\n",
      "\n",
      "\n",
      "y =\n",
      "\n",
      "    1.0000    1.4000    1.8000\n",
      "\n",
      "\n"
     ]
    }
   ],
   "source": [
    "x = [1:2.5]\n",
    "y = [1:.4:2]"
   ]
  },
  {
   "cell_type": "markdown",
   "metadata": {},
   "source": [
    "Vectors can be transformed from horizontal to vertical with the apostrophe '"
   ]
  },
  {
   "cell_type": "code",
   "execution_count": 10,
   "metadata": {},
   "outputs": [
    {
     "name": "stdout",
     "output_type": "stream",
     "text": [
      "\n",
      "x =\n",
      "\n",
      "     1\n",
      "     2\n",
      "     3\n",
      "     4\n",
      "     5\n",
      "\n",
      "\n",
      "y =\n",
      "\n",
      "     1     2     3\n",
      "\n",
      "\n"
     ]
    }
   ],
   "source": [
    "x = [1:5]'\n",
    "y = [1;2;3]'"
   ]
  },
  {
   "cell_type": "markdown",
   "metadata": {},
   "source": [
    "It is possible to force a vector to be a column (or row) with a little trickery.\n",
    "\n",
    "Define your data, and use the colon as the 'everything' operator. By default, MATLAB will return your data as a column."
   ]
  },
  {
   "cell_type": "code",
   "execution_count": 11,
   "metadata": {},
   "outputs": [
    {
     "name": "stdout",
     "output_type": "stream",
     "text": [
      "\n",
      "ans =\n",
      "\n",
      "     1\n",
      "     2\n",
      "     3\n",
      "     4\n",
      "     5\n",
      "\n",
      "\n",
      "ans =\n",
      "\n",
      "     1\n",
      "     2\n",
      "     3\n",
      "     4\n",
      "     5\n",
      "\n",
      "\n"
     ]
    }
   ],
   "source": [
    "x = [1:5];\n",
    "x(:)\n",
    "y = [1;2;3;4;5];\n",
    "y(:)"
   ]
  },
  {
   "cell_type": "markdown",
   "metadata": {},
   "source": [
    "As a corrolary, you can force data to be a row by forcing your data to be a column, and transposing it:"
   ]
  },
  {
   "cell_type": "code",
   "execution_count": 13,
   "metadata": {},
   "outputs": [
    {
     "name": "stdout",
     "output_type": "stream",
     "text": [
      "\n",
      "x =\n",
      "\n",
      "     1     2     3     4     5\n",
      "\n",
      "\n",
      "y =\n",
      "\n",
      "     1     2     3     4     5\n",
      "\n",
      "\n"
     ]
    }
   ],
   "source": [
    "x = [1:5];\n",
    "x = x(:)'\n",
    "y = [1;2;3;4;5];\n",
    "y = y(:)'"
   ]
  }
 ],
 "metadata": {
  "kernelspec": {
   "display_name": "Matlab",
   "language": "matlab",
   "name": "matlab"
  },
  "language_info": {
   "codemirror_mode": "octave",
   "file_extension": ".m",
   "help_links": [
    {
     "text": "MetaKernel Magics",
     "url": "https://github.com/calysto/metakernel/blob/master/metakernel/magics/README.md"
    }
   ],
   "mimetype": "text/x-octave",
   "name": "matlab",
   "version": "0.15.0"
  }
 },
 "nbformat": 4,
 "nbformat_minor": 2
}
