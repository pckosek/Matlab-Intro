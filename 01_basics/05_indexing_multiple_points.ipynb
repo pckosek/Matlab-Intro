{
 "cells": [
  {
   "cell_type": "markdown",
   "metadata": {},
   "source": [
    "#### Accessing Multiple Points at once\n",
    "\n",
    "Let's start with a simple example of getting multiple points at once.\n",
    "\n",
    "Previously we had seen how to access multiple points with the everything (`:`) operator:"
   ]
  },
  {
   "cell_type": "code",
   "execution_count": 1,
   "metadata": {},
   "outputs": [
    {
     "name": "stdout",
     "output_type": "stream",
     "text": [
      "\n",
      "x =\n",
      "\n",
      "     1     2     3     4     5     6     7     8     9    10    11    12\n",
      "\n",
      "\n",
      "ans =\n",
      "\n",
      "     1     2     3     4     5     6     7     8     9    10    11    12\n",
      "\n",
      "\n"
     ]
    }
   ],
   "source": [
    "x = 1:12\n",
    "x(1,:)"
   ]
  },
  {
   "cell_type": "markdown",
   "metadata": {},
   "source": [
    "Now, let's replace the everything operator with select data points:"
   ]
  },
  {
   "cell_type": "code",
   "execution_count": 2,
   "metadata": {},
   "outputs": [
    {
     "name": "stdout",
     "output_type": "stream",
     "text": [
      "\n",
      "x =\n",
      "\n",
      "     1     2     3     4     5     6     7     8     9    10    11    12\n",
      "\n",
      "\n",
      "ans =\n",
      "\n",
      "     1     3     5\n",
      "\n",
      "\n"
     ]
    }
   ],
   "source": [
    "x = 1:12\n",
    "x([1, 3, 5])"
   ]
  },
  {
   "cell_type": "markdown",
   "metadata": {},
   "source": [
    "Note that the column specifications above are bracketed as a list so that they are not treated as data points of additional dimensions (as they are here)"
   ]
  },
  {
   "cell_type": "code",
   "execution_count": 3,
   "metadata": {},
   "outputs": [
    {
     "name": "stderr",
     "output_type": "stream",
     "text": [
      "\u001b[1;31mIndex exceeds matrix dimensions.\n",
      "\n",
      "\u001b[0m"
     ]
    }
   ],
   "source": [
    "x\n",
    "x(1, 1, 3, 5)"
   ]
  },
  {
   "cell_type": "markdown",
   "metadata": {},
   "source": [
    "The individual cell definitions can be defined by a variable. For example:"
   ]
  },
  {
   "cell_type": "code",
   "execution_count": 4,
   "metadata": {},
   "outputs": [
    {
     "name": "stdout",
     "output_type": "stream",
     "text": [
      "\n",
      "x =\n",
      "\n",
      "     1     2     3     4     5     6     7     8     9    10    11    12\n",
      "\n",
      "\n",
      "ans =\n",
      "\n",
      "     1     3     5\n",
      "\n",
      "\n"
     ]
    }
   ],
   "source": [
    "y = [1,3,5];\n",
    "x\n",
    "x(y)"
   ]
  },
  {
   "cell_type": "markdown",
   "metadata": {},
   "source": [
    "You can perform mathematical operations on the index matrix, provided they return integers in the valid range. Here we data points 1 through 3 and then 2 through 4"
   ]
  },
  {
   "cell_type": "code",
   "execution_count": 5,
   "metadata": {},
   "outputs": [
    {
     "name": "stdout",
     "output_type": "stream",
     "text": [
      "\n",
      "x =\n",
      "\n",
      "     1     2     3     4     5     6     7     8     9    10    11    12\n",
      "\n",
      "\n",
      "ans =\n",
      "\n",
      "     1     2     3\n",
      "\n",
      "\n",
      "ans =\n",
      "\n",
      "     2     3     4\n",
      "\n",
      "\n"
     ]
    }
   ],
   "source": [
    "y = [0, 1, 2];\n",
    "x\n",
    "x(y+1)\n",
    "x(y+2)"
   ]
  },
  {
   "cell_type": "markdown",
   "metadata": {},
   "source": [
    "The index array does not need to be monotonically increasing. Here I grab the 4 'random' values"
   ]
  },
  {
   "cell_type": "code",
   "execution_count": 6,
   "metadata": {},
   "outputs": [
    {
     "name": "stdout",
     "output_type": "stream",
     "text": [
      "\n",
      "x =\n",
      "\n",
      "     1     2     3     4     5     6     7     8     9    10    11    12\n",
      "\n",
      "\n",
      "ans =\n",
      "\n",
      "     1     5     4     2\n",
      "\n",
      "\n"
     ]
    }
   ],
   "source": [
    "y = [1, 5, 4, 2];\n",
    "x\n",
    "x(y)"
   ]
  },
  {
   "cell_type": "markdown",
   "metadata": {},
   "source": [
    "Here I grab four values with duplicates"
   ]
  },
  {
   "cell_type": "code",
   "execution_count": 7,
   "metadata": {},
   "outputs": [
    {
     "name": "stdout",
     "output_type": "stream",
     "text": [
      "\n",
      "x =\n",
      "\n",
      "     1     2     3     4     5     6     7     8     9    10    11    12\n",
      "\n",
      "\n",
      "ans =\n",
      "\n",
      "     2     2     4     4\n",
      "\n",
      "\n"
     ]
    }
   ],
   "source": [
    "x\n",
    "x([2, 2, 4, 4])"
   ]
  },
  {
   "cell_type": "markdown",
   "metadata": {},
   "source": [
    "Ok, how about 4 actual random values using the `randi` function."
   ]
  },
  {
   "cell_type": "code",
   "execution_count": 8,
   "metadata": {},
   "outputs": [
    {
     "name": "stdout",
     "output_type": "stream",
     "text": [
      "\n",
      "r =\n",
      "\n",
      "    10    11     2    11\n",
      "\n",
      "\n",
      "x =\n",
      "\n",
      "     1     2     3     4     5     6     7     8     9    10    11    12\n",
      "\n",
      "\n",
      "ans =\n",
      "\n",
      "    10    11     2    11\n",
      "\n",
      "\n"
     ]
    }
   ],
   "source": [
    "r = randi([1 12], 1, 4)\n",
    "x\n",
    "x(r)"
   ]
  },
  {
   "cell_type": "markdown",
   "metadata": {},
   "source": [
    "#### Indeterminite  Subsets\n",
    "\n",
    "You can also use the everything operator to grab an indeterminite subse of an array. For example to select everything from the third element to the last element, you would say:"
   ]
  },
  {
   "cell_type": "code",
   "execution_count": 9,
   "metadata": {},
   "outputs": [
    {
     "name": "stdout",
     "output_type": "stream",
     "text": [
      "\n",
      "x =\n",
      "\n",
      "     1     2     3     4     5     6     7     8     9    10    11    12\n",
      "\n",
      "\n",
      "ans =\n",
      "\n",
      "     3     4     5     6     7     8     9    10    11    12\n",
      "\n",
      "\n"
     ]
    }
   ],
   "source": [
    "x\n",
    "x(3:end)"
   ]
  },
  {
   "cell_type": "markdown",
   "metadata": {},
   "source": [
    "Here I select everything up to the third last value"
   ]
  },
  {
   "cell_type": "code",
   "execution_count": 10,
   "metadata": {},
   "outputs": [
    {
     "name": "stdout",
     "output_type": "stream",
     "text": [
      "\n",
      "x =\n",
      "\n",
      "     1     2     3     4     5     6     7     8     9    10    11    12\n",
      "\n",
      "\n",
      "ans =\n",
      "\n",
      "     1     2     3     4     5     6     7     8     9\n",
      "\n",
      "\n"
     ]
    }
   ],
   "source": [
    "x\n",
    "x(1:end-3)"
   ]
  },
  {
   "cell_type": "markdown",
   "metadata": {},
   "source": [
    "#### Steps in Intervals Other Than One\n",
    "\n",
    "In this case I select everything up to the third last element from the end going in steps of 3"
   ]
  },
  {
   "cell_type": "code",
   "execution_count": 11,
   "metadata": {},
   "outputs": [
    {
     "name": "stdout",
     "output_type": "stream",
     "text": [
      "\n",
      "x =\n",
      "\n",
      "     1     2     3     4     5     6     7     8     9    10    11    12\n",
      "\n",
      "\n",
      "ans =\n",
      "\n",
      "     1     4     7    10\n",
      "\n",
      "\n"
     ]
    }
   ],
   "source": [
    "x\n",
    "x(1:3:end-2)"
   ]
  },
  {
   "cell_type": "markdown",
   "metadata": {},
   "source": [
    "Note that the above interval indices are treated less than or equal to the final value specification. \n",
    "\n",
    "So, for example, to every 5th value less than or equal to the length of the array:"
   ]
  },
  {
   "cell_type": "code",
   "execution_count": 12,
   "metadata": {},
   "outputs": [
    {
     "name": "stdout",
     "output_type": "stream",
     "text": [
      "\n",
      "x =\n",
      "\n",
      "     1     2     3     4     5     6     7     8     9    10    11    12\n",
      "\n",
      "\n",
      "ans =\n",
      "\n",
      "     1     6    11\n",
      "\n",
      "\n"
     ]
    }
   ],
   "source": [
    "x\n",
    "x(1:5:end)"
   ]
  },
  {
   "cell_type": "markdown",
   "metadata": {},
   "source": [
    "So, that was nice and all, but really highlights confusion that can come from one based indexing.\n",
    "\n",
    "Intuitively, the above example can be a little clearer if you think of it as acessing  the `1 + [Zeroth, Fifth, Tenth]` data points\n",
    "\n",
    "It's kind of messy trying to keep track of 0 based to 1 based transitions, but here are a couple examples to try to clarify."
   ]
  },
  {
   "cell_type": "code",
   "execution_count": 13,
   "metadata": {},
   "outputs": [
    {
     "name": "stdout",
     "output_type": "stream",
     "text": [
      "\n",
      "ans =\n",
      "\n",
      "     1     6    11\n",
      "\n",
      "\n"
     ]
    }
   ],
   "source": [
    "x([0:5:10]+1)"
   ]
  },
  {
   "cell_type": "code",
   "execution_count": 14,
   "metadata": {},
   "outputs": [
    {
     "name": "stdout",
     "output_type": "stream",
     "text": [
      "\n",
      "y =\n",
      "\n",
      "     0     1     2     3     4     5     6     7     8     9    10    11\n",
      "\n",
      "\n",
      "ans =\n",
      "\n",
      "     0     5    10\n",
      "\n",
      "\n"
     ]
    }
   ],
   "source": [
    "y = [0:11]\n",
    "y(1:5:end)"
   ]
  }
 ],
 "metadata": {
  "kernelspec": {
   "display_name": "Matlab",
   "language": "matlab",
   "name": "matlab"
  },
  "language_info": {
   "codemirror_mode": "octave",
   "file_extension": ".m",
   "help_links": [
    {
     "text": "MetaKernel Magics",
     "url": "https://github.com/calysto/metakernel/blob/master/metakernel/magics/README.md"
    }
   ],
   "mimetype": "text/x-octave",
   "name": "matlab",
   "version": "0.15.0"
  }
 },
 "nbformat": 4,
 "nbformat_minor": 2
}
